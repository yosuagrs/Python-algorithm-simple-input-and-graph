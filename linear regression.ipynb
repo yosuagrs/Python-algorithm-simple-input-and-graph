{
 "cells": [
  {
   "cell_type": "markdown",
   "metadata": {},
   "source": [
    "## simple linear regression  "
   ]
  },
  {
   "cell_type": "code",
   "execution_count": 6,
   "metadata": {},
   "outputs": [
    {
     "data": {
      "text/plain": [
       "array([[13.63243243]])"
      ]
     },
     "execution_count": 6,
     "metadata": {},
     "output_type": "execute_result"
    }
   ],
   "source": [
    "# import here\n",
    "from sklearn.linear_model import LinearRegression\n",
    "# x for feature and y for target\n",
    "X = [[72], [62], [52], [42], [92]]\n",
    "y = [7],[6],[5],[4],[7]\n",
    "# model will assign as reg variable\n",
    "reg = LinearRegression().fit(X, y)\n",
    "#predicting if given 190 then the result will be 18.8\n",
    "reg.predict([[190]])"
   ]
  },
  {
   "cell_type": "markdown",
   "metadata": {},
   "source": [
    "# plotting linear regression"
   ]
  },
  {
   "cell_type": "code",
   "execution_count": 7,
   "metadata": {},
   "outputs": [
    {
     "data": {
      "image/png": "[encoded data removed]",
      "text/plain": [
       "<Figure size 432x288 with 1 Axes>"
      ]
     },
     "metadata": {
      "needs_background": "light"
     },
     "output_type": "display_data"
    }
   ],
   "source": [
    "# import\n",
    "from matplotlib import pyplot as plt\n",
    "# data position on diagram as green dot\n",
    "plt.scatter(X, y,color='g')\n",
    "# regresion model as black line\n",
    "plt.plot(X, reg.predict(X),color='k')\n",
    "\n",
    "plt.show()"
   ]
  },
  {
   "cell_type": "markdown",
   "metadata": {},
   "source": [
    "## multidimensional input linear regression"
   ]
  },
  {
   "cell_type": "code",
   "execution_count": 24,
   "metadata": {},
   "outputs": [
    {
     "data": {
      "text/plain": [
       "array([[ 198., -190.]])"
      ]
     },
     "execution_count": 24,
     "metadata": {},
     "output_type": "execute_result"
    }
   ],
   "source": [
    "# import here\n",
    "from sklearn.linear_model import LinearRegression\n",
    "# x for  for feature and y for target, make sure have same count as y\n",
    "# here i used 3 feature input for each index\n",
    "X = [[7,7,3], [6, 6,3], [5, 5,3], [4, 4,3]]\n",
    "y = [7,1],[6,2],[5,3],[4,4]\n",
    "\n",
    "reg = LinearRegression().fit(X, y)\n",
    "\n",
    "reg.predict([[199, 197,3]])"
   ]
  },
  {
   "cell_type": "code",
   "execution_count": null,
   "metadata": {},
   "outputs": [],
   "source": []
  },
  {
   "cell_type": "markdown",
   "metadata": {},
   "source": [
    "# Experiment\n",
    "## bigram from nlp to seperate data"
   ]
  },
  {
   "cell_type": "code",
   "execution_count": 9,
   "metadata": {},
   "outputs": [
    {
     "data": {
      "text/plain": [
       "[[6, 3], [3, 4], [4, 1], [1, 2], [2, -1]]"
      ]
     },
     "execution_count": 9,
     "metadata": {},
     "output_type": "execute_result"
    }
   ],
   "source": [
    "# creating x\n",
    "data = [6, 3, 4, 1, 2, -1]\n",
    "hasil = [[data[i],data[i+1]] for i in range(len(data)-1)]\n",
    "hasil"
   ]
  },
  {
   "cell_type": "code",
   "execution_count": 10,
   "metadata": {},
   "outputs": [
    {
     "data": {
      "text/plain": [
       "[[3], [4], [1], [2], [-1]]"
      ]
     },
     "execution_count": 10,
     "metadata": {},
     "output_type": "execute_result"
    }
   ],
   "source": [
    "data = [6, 3, 4, 1, 2, -1]\n",
    "yhasil = [[data[i]] for i in range(1,len(data))]\n",
    "yhasil"
   ]
  },
  {
   "cell_type": "code",
   "execution_count": 16,
   "metadata": {},
   "outputs": [
    {
     "data": {
      "text/plain": [
       "array([[2.]])"
      ]
     },
     "execution_count": 16,
     "metadata": {},
     "output_type": "execute_result"
    }
   ],
   "source": [
    "from sklearn.linear_model import LinearRegression\n",
    "x = hasil\n",
    "y = yhasil\n",
    "reg = LinearRegression().fit(x, y)\n",
    "\n",
    "reg.predict([[4, 2]])"
   ]
  },
  {
   "cell_type": "code",
   "execution_count": 19,
   "metadata": {},
   "outputs": [
    {
     "name": "stdout",
     "output_type": "stream",
     "text": [
      "[[6, 3], [3, 4], [4, 1], [1, 2], [2, -1]]\n",
      "[[3], [4], [1], [2], [-1]]\n"
     ]
    }
   ],
   "source": [
    "print(x)\n",
    "print(y)"
   ]
  }
 ],
 "metadata": {
  "kernelspec": {
   "display_name": "Python 3",
   "language": "python",
   "name": "python3"
  },
  "language_info": {
   "codemirror_mode": {
    "name": "ipython",
    "version": 3
   },
   "file_extension": ".py",
   "mimetype": "text/x-python",
   "name": "python",
   "nbconvert_exporter": "python",
   "pygments_lexer": "ipython3",
   "version": "3.8.3"
  }
 },
 "nbformat": 4,
 "nbformat_minor": 4
}
